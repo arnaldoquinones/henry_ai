{
 "cells": [
  {
   "cell_type": "code",
   "execution_count": 6,
   "metadata": {},
   "outputs": [],
   "source": [
    "import pandas as pd\n",
    "import requests"
   ]
  },
  {
   "cell_type": "code",
   "execution_count": null,
   "metadata": {},
   "outputs": [
    {
     "name": "stdout",
     "output_type": "stream",
     "text": [
      "    idVariable                                        descripcion\n",
      "0            1  Reservas Internacionales del BCRA (en millones...\n",
      "1            4  Tipo de Cambio Minorista ($ por USD) Comunicac...\n",
      "2            5  Tipo de Cambio Mayorista ($ por USD) Comunicac...\n",
      "3            6             Tasa de Política Monetaria (en % n.a.)\n",
      "4            7     BADLAR en pesos de bancos privados (en % n.a.)\n",
      "5            8       TM20 en pesos de bancos privados (en % n.a.)\n",
      "6            9  Tasas de interés de las operaciones de pase ac...\n",
      "7           10  Tasas de interés de las operaciones de pase pa...\n",
      "8           11  Tasas de interés por préstamos entre entidades...\n",
      "9           12  Tasas de interés por depósitos a 30 días de pl...\n",
      "10          13  Tasa de interés de préstamos por adelantos en ...\n",
      "11          14            Tasa de interés de préstamos personales\n",
      "12          15      Base monetaria - Total (en millones de pesos)\n",
      "13          16       Circulación monetaria (en millones de pesos)\n",
      "14          17  Billetes y monedas en poder del público (en mi...\n",
      "15          18  Efectivo en entidades financieras (en millones...\n",
      "16          19  Depósitos de los bancos en cta. cte. en pesos ...\n",
      "17          21  Depósitos en efectivo en las entidades financi...\n",
      "18          22  En cuentas corrientes (neto de utilización FUC...\n",
      "19          23          En Caja de ahorros (en millones de pesos)\n",
      "20          24  A plazo (incluye inversiones y excluye CEDROS)...\n",
      "21          25  M2 privado, promedio móvil de 30 días, variaci...\n",
      "22          26  Préstamos de las entidades financieras al sect...\n",
      "23          27                 Inflación mensual (variación en %)\n",
      "24          28         Inflación interanual (variación en % i.a.)\n",
      "25          29  Inflación esperada - REM próximos 12 meses - M...\n",
      "26          30                              CER (Base 2.2.2002=1)\n",
      "27          31  Unidad de Valor Adquisitivo (UVA) (en pesos -c...\n",
      "28          32  Unidad de Vivienda (UVI) (en pesos -con dos de...\n",
      "29          34             Tasa de Política Monetaria (en % e.a.)\n",
      "30          35     BADLAR en pesos de bancos privados (en % e.a.)\n",
      "31          40  Índice para Contratos de Locación (ICL-Ley 27....\n",
      "32          41  Tasas de interés de las operaciones de pase pa...\n",
      "33          42  Pases pasivos para el BCRA - Saldos (en millon...\n",
      "34          43  Tasa de interés para uso de la Justicia – Comu...\n"
     ]
    }
   ],
   "source": [
    "principales_variables = pd.read_csv('principalesVariables.csv')\n",
    "# URL de la API\n",
    "print (principales_variables[['idVariable']+['descripcion']])\n",
    "idvariable = input('Ingresa la id de la Variable que te gustaria visualizar de la lista: ')\n",
    "desde = input('Ingresa la fecha de inicio de rango (maximo 1 año) a consultar en formato yyyy-mm-dd: ')\n",
    "hasta = input('Ingresa la fecha de final de rango (maximo 1 año) a consultar en formato yyyy-mm-dd: ')\n",
    "url = f\"https://api.bcra.gob.ar/estadisticas/v2.0/datosvariable/{idvariable}/{desde}/{hasta}\""
   ]
  },
  {
   "cell_type": "code",
   "execution_count": 13,
   "metadata": {},
   "outputs": [
    {
     "name": "stdout",
     "output_type": "stream",
     "text": [
      "     idVariable       fecha    valor\n",
      "0             1  2023-11-01  21876.0\n",
      "1             1  2023-11-02  21878.0\n",
      "2             1  2023-11-03  21883.0\n",
      "3             1  2023-11-07  20928.0\n",
      "4             1  2023-11-08  20938.0\n",
      "..          ...         ...      ...\n",
      "241           1  2024-10-28  29368.0\n",
      "242           1  2024-10-29  29669.0\n",
      "243           1  2024-10-30  29863.0\n",
      "244           1  2024-10-31  28618.0\n",
      "245           1  2024-11-01  29603.0\n",
      "\n",
      "[246 rows x 3 columns]\n"
     ]
    }
   ],
   "source": [
    "\n",
    "try:\n",
    "    response = requests.get(url, verify=False)\n",
    "    response.raise_for_status()  # Verifica si hubo errores en la solicitud\n",
    "\n",
    "    # Convertir la respuesta JSON a un objeto de Python\n",
    "    data = response.json()\n",
    "    \n",
    "    # Extraer la lista 'results'\n",
    "    results = data.get(\"results\", [])\n",
    "    \n",
    "    # Convertir la lista de diccionarios en un DataFrame\n",
    "    VariableElegida = pd.DataFrame(results)\n",
    "    \n",
    "    # Mostrar los primeros registros del DataFrame\n",
    "    print(VariableElegida)\n",
    "\n",
    "except requests.exceptions.RequestException as e:\n",
    "    print(f\"Error al conectar con la API: {e}\")\n",
    "except KeyError as e:\n",
    "    print(f\"Error procesando los datos: {e}\")"
   ]
  }
 ],
 "metadata": {
  "kernelspec": {
   "display_name": "Python 3",
   "language": "python",
   "name": "python3"
  },
  "language_info": {
   "codemirror_mode": {
    "name": "ipython",
    "version": 3
   },
   "file_extension": ".py",
   "mimetype": "text/x-python",
   "name": "python",
   "nbconvert_exporter": "python",
   "pygments_lexer": "ipython3",
   "version": "3.12.7"
  }
 },
 "nbformat": 4,
 "nbformat_minor": 2
}
