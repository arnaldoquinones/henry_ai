{
 "cells": [
  {
   "cell_type": "code",
   "execution_count": 6,
   "metadata": {},
   "outputs": [],
   "source": [
    "import pandas as pd\n",
    "import requests"
   ]
  },
  {
   "cell_type": "code",
   "execution_count": null,
   "metadata": {},
   "outputs": [],
   "source": [
    "from datetime import datetime\n",
    "\n",
    "def validar_fecha(fecha_str):\n",
    "    try:\n",
    "        # Intentar convertir el string al formato yyyy-mm-dd\n",
    "        fecha = datetime.strptime(fecha_str, \"%Y-%m-%d\")\n",
    "        return fecha\n",
    "    except ValueError:\n",
    "        # Si no coincide, retorna None\n",
    "        return None\n",
    "    \n",
    "def validar_id(id_input, df):\n",
    "    try:\n",
    "        # Convertir el input a entero y verificar si está en la columna\n",
    "        id_input = int(id_input)\n",
    "        if id_input in df['idVariable'].values:\n",
    "            return id_input\n",
    "        else:\n",
    "            return None\n",
    "    except ValueError:\n",
    "        # Si no puede convertirse a entero\n",
    "        return None\n"
   ]
  },
  {
   "cell_type": "code",
   "execution_count": null,
   "metadata": {},
   "outputs": [],
   "source": [
    "principales_variables = pd.read_csv('principalesVariables.csv')\n",
    "# URL de la API\n",
    "print (principales_variables[['idVariable']+['descripcion']])\n"
   ]
  },
  {
   "cell_type": "code",
   "execution_count": null,
   "metadata": {},
   "outputs": [
    {
     "name": "stdout",
     "output_type": "stream",
     "text": [
      "ID válido: 1\n",
      "Fecha válida: 2022-01-01\n",
      "Fecha válida: 2021-01-01\n",
      "Rango válido.\n",
      "['Fecha desde no debe ser mayor a la fecha hasta.']\n",
      "El ID ingresado no es válido. Inténtalo nuevamente.\n",
      "El ID ingresado no es válido. Inténtalo nuevamente.\n",
      "El ID ingresado no es válido. Inténtalo nuevamente.\n",
      "ID válido: 1\n",
      "Fecha válida: 2022-01-01\n",
      "Fecha válida: 2023-01-01\n",
      "Rango válido.\n"
     ]
    }
   ],
   "source": [
    "while True:\n",
    "    while True:\n",
    "        idvariable = input(\"Ingresa un ID de variable que te gustaria visualizar de la lista:: \")\n",
    "        if validar_id(idvariable, principales_variables):\n",
    "            print(f\"ID válido: {idvariable}\")\n",
    "            break\n",
    "        else:\n",
    "            print(\"El ID ingresado no es válido. Inténtalo nuevamente.\")\n",
    "\n",
    "    while True:\n",
    "        desde = input(\"Ingresa una fecha de inicio de rango (maximo 1 año) en formato yyyy-mm-dd: \")\n",
    "        if validar_fecha(desde):\n",
    "            print(f\"Fecha válida: {desde}\")\n",
    "            break\n",
    "        else:\n",
    "            print(\"Formato de fecha inválido. Inténtalo de nuevo.\")\n",
    "\n",
    "    while True:\n",
    "        hasta = input(\"Ingresa una fecha en formato yyyy-mm-dd: \")\n",
    "        if validar_fecha(hasta):\n",
    "            print(f\"Fecha válida: {hasta}\")\n",
    "            break\n",
    "        else:\n",
    "            print(\"Formato de fecha inválido. Inténtalo de nuevo.\")\n",
    "\n",
    "    url = f\"https://api.bcra.gob.ar/estadisticas/v2.0/datosvariable/{idvariable}/{desde}/{hasta}\"\n",
    "    try:\n",
    "        response = requests.get(url, verify=False)\n",
    "\n",
    "    # Convertir la respuesta JSON a un objeto de Python\n",
    "        data = response.json()\n",
    "        status = data.get(\"status\")\n",
    "        if (status == 200):\n",
    "            print('La URL es valida.')\n",
    "            break\n",
    "        else:\n",
    "            print(data.get('errorMessages'))\n",
    "    except requests.exceptions.RequestException as e:\n",
    "        print(f\"Error al conectar con la API: {e}\")\n",
    "    except KeyError as e:\n",
    "        print(f\"Error procesando los datos: {e}\")"
   ]
  },
  {
   "cell_type": "code",
   "execution_count": 19,
   "metadata": {},
   "outputs": [
    {
     "name": "stdout",
     "output_type": "stream",
     "text": [
      "     idVariable       fecha    valor\n",
      "0             1  2023-01-02  44608.0\n",
      "1             1  2023-01-03  44613.0\n",
      "2             1  2023-01-04  44694.0\n",
      "3             1  2023-01-05  44838.0\n",
      "4             1  2023-01-06  44432.0\n",
      "..          ...         ...      ...\n",
      "238           1  2023-12-22  22581.0\n",
      "239           1  2023-12-26  22571.0\n",
      "240           1  2023-12-27  22763.0\n",
      "241           1  2023-12-28  23125.0\n",
      "242           1  2023-12-29  23073.0\n",
      "\n",
      "[243 rows x 3 columns]\n"
     ]
    }
   ],
   "source": [
    "\n",
    "try:\n",
    "    response = requests.get(url, verify=False)\n",
    "    response.raise_for_status()  # Verifica si hubo errores en la solicitud\n",
    "\n",
    "    # Convertir la respuesta JSON a un objeto de Python\n",
    "    data = response.json()\n",
    "    \n",
    "    # Extraer la lista 'results'\n",
    "    results = data.get(\"results\", [])\n",
    "    \n",
    "    # Convertir la lista de diccionarios en un DataFrame\n",
    "    VariableElegida = pd.DataFrame(results)\n",
    "    \n",
    "    # Mostrar los primeros registros del DataFrame\n",
    "    print(VariableElegida)\n",
    "\n",
    "except requests.exceptions.RequestException as e:\n",
    "    print(f\"Error al conectar con la API: {e}\")\n",
    "except KeyError as e:\n",
    "    print(f\"Error procesando los datos: {e}\")"
   ]
  }
 ],
 "metadata": {
  "kernelspec": {
   "display_name": "Python 3",
   "language": "python",
   "name": "python3"
  },
  "language_info": {
   "codemirror_mode": {
    "name": "ipython",
    "version": 3
   },
   "file_extension": ".py",
   "mimetype": "text/x-python",
   "name": "python",
   "nbconvert_exporter": "python",
   "pygments_lexer": "ipython3",
   "version": "3.12.7"
  }
 },
 "nbformat": 4,
 "nbformat_minor": 2
}
