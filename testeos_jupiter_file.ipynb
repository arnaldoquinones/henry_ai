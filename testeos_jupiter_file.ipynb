{
 "cells": [
  {
   "cell_type": "code",
   "execution_count": 2,
   "metadata": {},
   "outputs": [
    {
     "name": "stdout",
     "output_type": "stream",
     "text": [
      "Archivo convertido y guardado como icono.ico\n"
     ]
    }
   ],
   "source": [
    "# ---------------------------------------\n",
    "# -- CONVIERTE UN ARCHIVO .png A .ico. --\n",
    "# ---------------------------------------\n",
    "\n",
    "from PIL import Image\n",
    "\n",
    "def convert_png_to_ico(input_path, output_path, icon_sizes=[(32, 32), (64, 64), (128, 128), (256, 256)]):\n",
    "    \"\"\"\n",
    "    Convierte un archivo .png a .ico.\n",
    "    \n",
    "    :param input_path: Ruta del archivo .png de entrada.\n",
    "    :param output_path: Ruta del archivo .ico de salida.\n",
    "    :param icon_sizes: Lista de tamaños para incluir en el archivo .ico.\n",
    "    \"\"\"\n",
    "    try:\n",
    "        # Abrir la imagen PNG\n",
    "        img = Image.open(r\"D:\\Users\\Arnaldo\\Desktop\\SISTEMAS\\proyectos\\henry_ai\\media\\logo_inicio.png\")\n",
    "        \n",
    "        # Convertir a modo RGBA si no lo está\n",
    "        if img.mode != 'RGBA':\n",
    "            img = img.convert('RGBA')\n",
    "        \n",
    "        # Guardar como archivo .ico con los tamaños especificados\n",
    "        img.save(r\"D:\\Users\\Arnaldo\\Desktop\\SISTEMAS\\proyectos\\henry_ai\\media\\logo_inicio_favicon.ico\", format='ICO', sizes=icon_sizes)\n",
    "        print(f\"Archivo convertido y guardado como {output_path}\")\n",
    "    except Exception as e:\n",
    "        print(f\"Error al convertir la imagen: {e}\")\n",
    "\n",
    "# Ejemplo de uso\n",
    "convert_png_to_ico('imagen.png', 'icono.ico')\n"
   ]
  },
  {
   "cell_type": "code",
   "execution_count": null,
   "metadata": {},
   "outputs": [
    {
     "name": "stdout",
     "output_type": "stream",
     "text": [
      "Archivo convertido y guardado como: D:\\Users\\Arnaldo\\Desktop\\SISTEMAS\\proyectos\\henry_ai\\media\\logo_I.png \n"
     ]
    }
   ],
   "source": [
    "# ---------------------------------------\n",
    "# -- CONVIERTE UN ARCHIVO .webp A .png --\n",
    "# ---------------------------------------\n",
    "\n",
    "from PIL import Image\n",
    "\n",
    "# Ruta del archivo .webp de origen\n",
    "input_path = r\"D:\\Users\\Arnaldo\\Desktop\\SISTEMAS\\proyectos\\henry_ai\\media\\DALL·E 2024-11-27 11.22.49 - A modern 3D finance icon with a dollar sign ($) in the center, placed over a graph with green bars and an ascending line. The icon excludes the white .webp\"\n",
    "\n",
    "# Ruta del archivo .png de destino\n",
    "output_path = r\"D:\\Users\\Arnaldo\\Desktop\\SISTEMAS\\proyectos\\henry_ai\\media\\logo_I.png \"\n",
    "\n",
    "try:\n",
    "    # Abre el archivo .webp\n",
    "    with Image.open(input_path) as img:\n",
    "        # Convierte y guarda como .png\n",
    "        img.save(output_path, format=\"PNG\")\n",
    "        print(f\"Archivo convertido y guardado como: {output_path}\")\n",
    "except Exception as e:\n",
    "    print(f\"Error al convertir el archivo: {e}\")\n"
   ]
  },
  {
   "cell_type": "code",
   "execution_count": 1,
   "metadata": {},
   "outputs": [
    {
     "name": "stdout",
     "output_type": "stream",
     "text": [
      "Imagen procesada y guardada en: D:\\Users\\Arnaldo\\Desktop\\SISTEMAS\\proyectos\\henry_ai\\media\\logo_favicon.png\n"
     ]
    }
   ],
   "source": [
    "# ------------------------------------------\n",
    "# -- REMUEVE EL FONDO BLANCO DE LA IMAGEN --\n",
    "# ------------------------------------------\n",
    "\n",
    "from PIL import Image\n",
    "\n",
    "# Ruta de la imagen de entrada\n",
    "input_path = r\"D:\\Users\\Arnaldo\\Desktop\\SISTEMAS\\proyectos\\henry_ai\\media\\logo_inicio.png\"  # Reemplaza con la ruta de tu imagen\n",
    "output_path = r\"D:\\Users\\Arnaldo\\Desktop\\SISTEMAS\\proyectos\\henry_ai\\media\\logo_favicon.png\"    # Nombre para la imagen de salida\n",
    "\n",
    "# Cargar la imagen y convertirla a RGBA para manejar la transparencia\n",
    "image = Image.open(input_path).convert(\"RGBA\")\n",
    "\n",
    "# Procesar los píxeles para eliminar el fondo blanco\n",
    "data = image.getdata()\n",
    "new_data = [\n",
    "    (255, 255, 255, 0) if pixel[:3] == (255, 255, 255) else pixel\n",
    "    for pixel in data\n",
    "]\n",
    "\n",
    "# Crear una nueva imagen con los píxeles modificados\n",
    "image.putdata(new_data)\n",
    "\n",
    "# Guardar la imagen resultante\n",
    "image.save(output_path, \"PNG\")\n",
    "\n",
    "print(f\"Imagen procesada y guardada en: {output_path}\")\n"
   ]
  },
  {
   "cell_type": "code",
   "execution_count": null,
   "metadata": {},
   "outputs": [
    {
     "name": "stdout",
     "output_type": "stream",
     "text": [
      "Precios del dólar en Dólar Hoy:\n",
      "$1105\n",
      "$1125\n",
      "$1105\n",
      "$1125\n",
      "$988\n",
      "$1028\n",
      "$1073,30\n",
      "$1074,20\n",
      "$1103\n",
      "$1104,10\n",
      "$1109,30\n",
      "$1112,80\n",
      "$1644,80\n"
     ]
    }
   ],
   "source": [
    "import requests\n",
    "from bs4 import BeautifulSoup\n",
    "\n",
    "# URL de la página\n",
    "url = \"https://dolarhoy.com/\"\n",
    "\n",
    "# Realizar la solicitud GET\n",
    "response = requests.get(url)\n",
    "if response.status_code == 200:\n",
    "    # Parsear el contenido HTML de la página\n",
    "    soup = BeautifulSoup(response.content, 'html.parser')\n",
    "\n",
    "    # Buscar los valores de dólar en la página\n",
    "    # Ajusta los selectores según la estructura HTML actual\n",
    "    dolar_values = soup.find_all('div', class_='val')\n",
    "\n",
    "    print(\"Precios del dólar Blue:\")\n",
    "    for value in dolar_values:\n",
    "        print(value.text.strip())\n",
    "else:\n",
    "    print(f\"Error al acceder a la página. Código de estado: {response.status_code}\")\n"
   ]
  },
  {
   "cell_type": "code",
   "execution_count": 1,
   "metadata": {},
   "outputs": [
    {
     "name": "stdout",
     "output_type": "stream",
     "text": [
      "Precios del dólar Blue:\n",
      "Valor de compra: $1100\n",
      "Valor de venta: $1120\n"
     ]
    }
   ],
   "source": [
    "import requests\n",
    "from bs4 import BeautifulSoup\n",
    "\n",
    "# URL de la página\n",
    "url = \"https://dolarhoy.com/\"\n",
    "\n",
    "# Realizar la solicitud GET\n",
    "response = requests.get(url)\n",
    "if response.status_code == 200:\n",
    "    # Parsear el contenido HTML\n",
    "    soup = BeautifulSoup(response.content, 'html.parser')\n",
    "\n",
    "    # Buscar todos los valores de cotización\n",
    "    values = soup.find_all('div', class_='val')\n",
    "\n",
    "    if len(values) >= 2:  # Verifica que haya al menos dos valores\n",
    "        # Extraer e imprimir los primeros dos valores con los títulos asignados\n",
    "        print(\"Precios del dólar Blue:\")\n",
    "        print(f\"Valor de compra: {values[0].text.strip()}\")\n",
    "        print(f\"Valor de venta: {values[1].text.strip()}\")\n",
    "    else:\n",
    "        print(\"No se encontraron suficientes valores de cotización en la página.\")\n",
    "else:\n",
    "    print(f\"Error al acceder a la página. Código de estado: {response.status_code}\")\n"
   ]
  }
 ],
 "metadata": {
  "kernelspec": {
   "display_name": "base",
   "language": "python",
   "name": "python3"
  },
  "language_info": {
   "codemirror_mode": {
    "name": "ipython",
    "version": 3
   },
   "file_extension": ".py",
   "mimetype": "text/x-python",
   "name": "python",
   "nbconvert_exporter": "python",
   "pygments_lexer": "ipython3",
   "version": "3.11.5"
  }
 },
 "nbformat": 4,
 "nbformat_minor": 2
}
